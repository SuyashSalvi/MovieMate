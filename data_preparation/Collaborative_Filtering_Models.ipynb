{
  "cells": [
    {
      "cell_type": "markdown",
      "metadata": {
        "id": "iI6vU1gwo61k"
      },
      "source": [
        "## Data Preparation"
      ]
    },
    {
      "cell_type": "code",
      "execution_count": 1,
      "metadata": {
        "collapsed": true,
        "colab": {
          "base_uri": "https://localhost:8080/"
        },
        "id": "xeXL-vmco61k",
        "outputId": "4a147d94-61bb-47f3-85ab-e368d80b2c38"
      },
      "outputs": [
        {
          "output_type": "stream",
          "name": "stdout",
          "text": [
            "Mounted at /content/drive\n"
          ]
        }
      ],
      "source": [
        "from google.colab import drive\n",
        "\n",
        "drive.mount('/content/drive')\n",
        "\n",
        "ratings_path = '/content/drive/My Drive/movie_rec_system/ratings.csv'\n",
        "users_path = '/content/drive/My Drive/movie_rec_system/users.csv'\n",
        "movies_path = '/content/drive/My Drive/movie_rec_system/movies.csv'\n",
        "\n",
        "import pandas as pd\n",
        "import numpy as np\n",
        "import matplotlib.pyplot as plt\n",
        "\n",
        "# Reading ratings file\n",
        "# Ignore the timestamp column\n",
        "ratings = pd.read_csv(ratings_path, sep='\\t', encoding='latin-1', usecols=['user_id', 'movie_id', 'rating'])\n",
        "\n",
        "# Reading users file\n",
        "users = pd.read_csv(users_path, sep='\\t', encoding='latin-1', usecols=['user_id', 'gender', 'zipcode', 'age_desc', 'occ_desc'])\n",
        "\n",
        "# Reading movies file\n",
        "movies = pd.read_csv(movies_path, sep='\\t', encoding='latin-1', usecols=['movie_id', 'title', 'genres'])"
      ]
    },
    {
      "cell_type": "code",
      "execution_count": 2,
      "metadata": {
        "colab": {
          "base_uri": "https://localhost:8080/"
        },
        "id": "gS8c-y5Vo61l",
        "outputId": "9895c45d-1244-4e9d-f178-198c2d268d06"
      },
      "outputs": [
        {
          "output_type": "stream",
          "name": "stdout",
          "text": [
            "   user_id  movie_id  rating\n",
            "0        1      1193       5\n",
            "1        1       661       3\n",
            "2        1       914       3\n",
            "3        1      3408       4\n",
            "4        1      2355       5\n"
          ]
        }
      ],
      "source": [
        "# Check the top 5 rows\n",
        "print(ratings.head())"
      ]
    },
    {
      "cell_type": "code",
      "execution_count": 3,
      "metadata": {
        "colab": {
          "base_uri": "https://localhost:8080/"
        },
        "id": "rVbEs9Qdo61m",
        "outputId": "aa7f84f0-dc3a-4063-ec85-6cc20716b10b"
      },
      "outputs": [
        {
          "output_type": "stream",
          "name": "stdout",
          "text": [
            "<class 'pandas.core.frame.DataFrame'>\n",
            "RangeIndex: 1000209 entries, 0 to 1000208\n",
            "Data columns (total 3 columns):\n",
            " #   Column    Non-Null Count    Dtype\n",
            "---  ------    --------------    -----\n",
            " 0   user_id   1000209 non-null  int64\n",
            " 1   movie_id  1000209 non-null  int64\n",
            " 2   rating    1000209 non-null  int64\n",
            "dtypes: int64(3)\n",
            "memory usage: 22.9 MB\n",
            "None\n"
          ]
        }
      ],
      "source": [
        "# Check the file info\n",
        "print(ratings.info())"
      ]
    },
    {
      "cell_type": "markdown",
      "metadata": {
        "id": "3KH796Qbo61w"
      },
      "source": [
        "## Collaborative Filtering Recommendation Model\n",
        "The content based engine suffers from some severe limitations. It is only capable of suggesting movies which are close to a certain movie. That is, it is not capable of capturing tastes and providing recommendations across genres.\n",
        "\n",
        "Also, the engine that we built is not really personal in that it doesn't capture the personal tastes and biases of a user. Anyone querying our engine for recommendations based on a movie will receive the same recommendations for that movie, regardless of who she/he is.\n",
        "\n",
        "Therefore, in this section, I will use Memory-Based Collaborative Filtering to make recommendations to movie users. The technique is based on the idea that users similar to a me can be used to predict how much I will like a particular product or service those users have used/experienced but I have not.\n",
        "\n",
        "### Theory\n",
        "There are 2 main types of memory-based collaborative filtering algorithms:\n",
        "1. **User-User Collaborative Filtering**: Here we find look alike users based on similarity and recommend movies which first user’s look-alike has chosen in past. This algorithm is very effective but takes a lot of time and resources. It requires to compute every user pair information which takes time. Therefore, for big base platforms, this algorithm is hard to implement without a very strong parallelizable system.\n",
        "2. **Item-Item Collaborative Filtering**: It is quite similar to previous algorithm, but instead of finding user's look-alike, we try finding movie's look-alike. Once we have movie's look-alike matrix, we can easily recommend alike movies to user who have rated any movie from the dataset. This algorithm is far less resource consuming than user-user collaborative filtering. Hence, for a new user, the algorithm takes far lesser time than user-user collaborate as we don’t need all similarity scores between users. And with fixed number of movies, movie-movie look alike matrix is fixed over time.\n",
        "\n",
        "![user_item_cf](images/user_item_cf.jpg)\n",
        "\n",
        "In either scenario, we builds a similarity matrix. For user-user collaborative filtering, the **user-similarity matrix** will consist of some distance metrics that measure the similarity between any two pairs of users. Likewise, the **item-similarity matrix** will measure the similarity between any two pairs of items.\n",
        "\n",
        "There are 3 distance similarity metrics that are usually used in collaborative filtering:\n",
        "1. **Jaccard Similarity**:\n",
        "    * Similarity is based on the number of users which have rated item A and B divided by the number of users who have rated either A or B\n",
        "    * It is typically used where we don’t have a numeric rating but just a boolean value like a product being bought or an add being clicked\n",
        "\n",
        "2. **Cosine Similarity**: (as in the Content-Based system)\n",
        "    * Similarity is the cosine of the angle between the 2 vectors of the item vectors of A and B\n",
        "    * Closer the vectors, smaller will be the angle and larger the cosine\n",
        "\n",
        "3. **Pearson Similarity**:\n",
        "    * Similarity is the pearson coefficient between the two vectors.\n",
        "\n",
        "For the purpose of diversity, I will use **Pearson Similarity** in this implementation.\n",
        "\n",
        "### Implementation\n",
        "I will use the file **ratings.csv** first as it contains User ID, Movie IDs and Ratings. These three elements are all I need for determining the similarity of the users based on their ratings for a particular movie.\n",
        "\n",
        "First I do some quick data processing:"
      ]
    },
    {
      "cell_type": "code",
      "execution_count": 4,
      "metadata": {
        "collapsed": true,
        "id": "N8ywjH0po61x"
      },
      "outputs": [],
      "source": [
        "# Fill NaN values in user_id and movie_id column with 0\n",
        "ratings['user_id'] = ratings['user_id'].fillna(0)\n",
        "ratings['movie_id'] = ratings['movie_id'].fillna(0)\n",
        "\n",
        "# Replace NaN values in rating column with average of all values\n",
        "ratings['rating'] = ratings['rating'].fillna(ratings['rating'].mean())"
      ]
    },
    {
      "cell_type": "markdown",
      "metadata": {
        "id": "iZIN655Fo61x"
      },
      "source": [
        "Due to the limited computing power in my laptop, I will build the recommender system using only a subset of the ratings. In particular, I will take a random sample of 20,000 ratings (2%) from the 1M ratings."
      ]
    },
    {
      "cell_type": "code",
      "execution_count": 5,
      "metadata": {
        "colab": {
          "base_uri": "https://localhost:8080/"
        },
        "id": "LBFUd8wpo61x",
        "outputId": "79a13a80-7745-4809-c310-6a2539e83b20"
      },
      "outputs": [
        {
          "output_type": "stream",
          "name": "stdout",
          "text": [
            "<class 'pandas.core.frame.DataFrame'>\n",
            "Index: 20004 entries, 187444 to 393032\n",
            "Data columns (total 3 columns):\n",
            " #   Column    Non-Null Count  Dtype\n",
            "---  ------    --------------  -----\n",
            " 0   user_id   20004 non-null  int64\n",
            " 1   movie_id  20004 non-null  int64\n",
            " 2   rating    20004 non-null  int64\n",
            "dtypes: int64(3)\n",
            "memory usage: 625.1 KB\n",
            "None\n"
          ]
        }
      ],
      "source": [
        "# Randomly sample 1% of the ratings dataset\n",
        "small_data = ratings.sample(frac=0.02)\n",
        "# Check the sample info\n",
        "print(small_data.info())"
      ]
    },
    {
      "cell_type": "markdown",
      "metadata": {
        "id": "kFtdpRI4o61x"
      },
      "source": [
        "Now I use the **scikit-learn library** to split the dataset into testing and training.  **Cross_validation.train_test_split** shuffles and splits the data into two datasets according to the percentage of test examples, which in this case is 0.2."
      ]
    },
    {
      "cell_type": "code",
      "execution_count": 6,
      "metadata": {
        "id": "G_y8yFh3o61x"
      },
      "outputs": [],
      "source": [
        "from sklearn.model_selection import cross_val_score as cv\n",
        "from sklearn.model_selection import train_test_split\n",
        "\n",
        "train_data, test_data = train_test_split(small_data, test_size=0.2)"
      ]
    },
    {
      "cell_type": "markdown",
      "metadata": {
        "id": "3dxkNrgWo61y"
      },
      "source": [
        "Now I need to create a user-item matrix. Since I have splitted the data into testing and training, I need to create two matrices. The training matrix contains 80% of the ratings and the testing matrix contains 20% of the ratings."
      ]
    },
    {
      "cell_type": "code",
      "execution_count": 7,
      "metadata": {
        "colab": {
          "base_uri": "https://localhost:8080/"
        },
        "id": "8cAvsFBfo61y",
        "outputId": "cd938616-53db-49f1-f70f-d388fff3d053"
      },
      "outputs": [
        {
          "output_type": "stream",
          "name": "stdout",
          "text": [
            "(16003, 3)\n",
            "(4001, 3)\n"
          ]
        }
      ],
      "source": [
        "# Create two user-item matrices, one for training and another for testing\n",
        "train_data_matrix = train_data[['user_id', 'movie_id', 'rating']].to_numpy()\n",
        "test_data_matrix = test_data[['user_id', 'movie_id', 'rating']].to_numpy()\n",
        "\n",
        "# Check their shape\n",
        "print(train_data_matrix.shape)\n",
        "print(test_data_matrix.shape)"
      ]
    },
    {
      "cell_type": "markdown",
      "metadata": {
        "id": "WNrNWxqro61y"
      },
      "source": [
        "Now I use the **pairwise_distances** function from sklearn to calculate the [Pearson Correlation Coefficient](https://stackoverflow.com/questions/1838806/euclidean-distance-vs-pearson-correlation-vs-cosine-similarity). This method provides a safe way to take a distance matrix as input, while preserving compatibility with many other algorithms that take a vector array."
      ]
    },
    {
      "cell_type": "code",
      "execution_count": 8,
      "metadata": {
        "colab": {
          "base_uri": "https://localhost:8080/"
        },
        "id": "duwGM9PJo61y",
        "outputId": "9da97844-a868-44e7-8f92-acfe792bf76e"
      },
      "outputs": [
        {
          "output_type": "stream",
          "name": "stdout",
          "text": [
            "[[1.         0.95267253 0.99997883 0.57228483]\n",
            " [0.95267253 1.         0.95067412 0.79449545]\n",
            " [0.99997883 0.95067412 1.         0.56693629]\n",
            " [0.57228483 0.79449545 0.56693629 1.        ]]\n"
          ]
        }
      ],
      "source": [
        "from sklearn.metrics.pairwise import pairwise_distances\n",
        "\n",
        "# User Similarity Matrix\n",
        "user_correlation = 1 - pairwise_distances(train_data, metric='correlation')\n",
        "user_correlation[np.isnan(user_correlation)] = 0\n",
        "print(user_correlation[:4, :4])"
      ]
    },
    {
      "cell_type": "code",
      "execution_count": 9,
      "metadata": {
        "colab": {
          "base_uri": "https://localhost:8080/"
        },
        "id": "eKWJFKM9o61y",
        "outputId": "848be32e-7a99-4f55-9d49-7add35b6a4d2"
      },
      "outputs": [
        {
          "output_type": "stream",
          "name": "stdout",
          "text": [
            "[[ 1.         -0.01608875  0.01040977]\n",
            " [-0.01608875  1.         -0.0606499 ]\n",
            " [ 0.01040977 -0.0606499   1.        ]]\n"
          ]
        }
      ],
      "source": [
        "# Item Similarity Matrix\n",
        "item_correlation = 1 - pairwise_distances(train_data_matrix.T, metric='correlation')\n",
        "item_correlation[np.isnan(item_correlation)] = 0\n",
        "print(item_correlation[:4, :4])"
      ]
    },
    {
      "cell_type": "markdown",
      "metadata": {
        "id": "GpE2wFyro61y"
      },
      "source": [
        "With the similarity matrix in hand, I can now predict the ratings that were not included with the data. Using these predictions, I can then compare them with the test data to attempt to validate the quality of our recommender model.\n",
        "\n",
        "For the user-user CF case, I will look at the similarity between 2 users (A and B, for example) as weights that are multiplied by the ratings of a similar user B (corrected for the average rating of that user). I also need to normalize it so that the ratings stay between 1 and 5 and, as a final step, sum the average ratings for the user that I am trying to predict. The idea here is that some users may tend always to give high or low ratings to all movies. The relative difference in the ratings that these users give is more important than the absolute values."
      ]
    },
    {
      "cell_type": "code",
      "execution_count": 10,
      "metadata": {
        "collapsed": true,
        "id": "2l94c4S9o61y"
      },
      "outputs": [],
      "source": [
        "# Function to predict ratings\n",
        "def predict(ratings, similarity, type='user'):\n",
        "    if type == 'user':\n",
        "        mean_user_rating = ratings.mean(axis=1)\n",
        "        # Use np.newaxis so that mean_user_rating has same format as ratings\n",
        "        ratings_diff = (ratings - mean_user_rating[:, np.newaxis])\n",
        "        pred = mean_user_rating[:, np.newaxis] + similarity.dot(ratings_diff) / np.array([np.abs(similarity).sum(axis=1)]).T\n",
        "    elif type == 'item':\n",
        "        pred = ratings.dot(similarity) / np.array([np.abs(similarity).sum(axis=1)])\n",
        "    print(pred)\n",
        "    return pred"
      ]
    },
    {
      "cell_type": "markdown",
      "metadata": {
        "id": "L-czXzlBo61y"
      },
      "source": [
        "### Evaluation\n",
        "There are many evaluation metrics but one of the most popular metric used to evaluate accuracy of predicted ratings is **Root Mean Squared Error (RMSE)**. I will use the **mean_square_error (MSE)** function from sklearn, where the RMSE is just the square root of MSE.\n",
        "\n",
        "$$\\mathit{RMSE} =\\sqrt{\\frac{1}{N} \\sum (x_i -\\hat{x_i})^2}$$\n",
        "\n",
        "I'll use the scikit-learn's **mean squared error** function as my validation metric. Comparing user- and item-based collaborative filtering, it looks like user-based collaborative filtering gives a better result."
      ]
    },
    {
      "cell_type": "code",
      "execution_count": 11,
      "metadata": {
        "collapsed": true,
        "id": "J8eXcG3To61z"
      },
      "outputs": [],
      "source": [
        "from sklearn.metrics import mean_squared_error\n",
        "from math import sqrt\n",
        "\n",
        "# Function to calculate RMSE\n",
        "def rmse(pred, actual):\n",
        "    # Ignore nonzero terms.\n",
        "    pred = pred[actual.nonzero()].flatten()\n",
        "    actual = actual[actual.nonzero()].flatten()\n",
        "    return sqrt(mean_squared_error(pred, actual))"
      ]
    },
    {
      "cell_type": "code",
      "execution_count": 12,
      "metadata": {
        "colab": {
          "base_uri": "https://localhost:8080/"
        },
        "id": "dRPPPkJro61z",
        "outputId": "3163bf67-839a-4fc3-8388-71313e5b5add"
      },
      "outputs": [
        {
          "output_type": "stream",
          "name": "stdout",
          "text": [
            "[[ 2991.60899565   787.83962683  -533.44862248]\n",
            " [ 2050.0658315    158.30922864 -1479.37506014]\n",
            " [ 3924.40380119  1715.06182557   402.53437324]\n",
            " ...\n",
            " [ 2926.60172226   751.57406942  -612.17579167]\n",
            " [ 3693.52589068  1805.19908616   165.27502315]\n",
            " [ 3597.63186312  2367.24448529   463.12365159]]\n",
            "[[ 3.05042960e+03  5.51777244e+01  2.70221265e+01]\n",
            " [ 5.24165208e+02  1.63562471e+02 -2.41681030e+00]\n",
            " [ 5.72376952e+03  6.15268737e+01  5.08132049e+01]\n",
            " ...\n",
            " [ 2.78301932e+03  1.45628856e+02  1.91025797e+01]\n",
            " [ 4.08850793e+03  1.27507591e+03 -3.77824823e+01]\n",
            " [ 3.36685619e+03  2.65926912e+03 -1.26633748e+02]]\n",
            "User-based CF RMSE: 1419.8618959946425\n",
            "Item-based CF RMSE: 1629.9997428294428\n"
          ]
        }
      ],
      "source": [
        "# Predict ratings on the training data with both similarity score\n",
        "user_prediction = predict(train_data_matrix, user_correlation, type='user')\n",
        "item_prediction = predict(train_data_matrix, item_correlation, type='item')\n",
        "\n",
        "# RMSE on the test data\n",
        "print('User-based CF RMSE: ' + str(rmse(user_prediction, test_data_matrix)))\n",
        "print('Item-based CF RMSE: ' + str(rmse(item_prediction, test_data_matrix)))"
      ]
    },
    {
      "cell_type": "code",
      "source": [
        "user_prediction.shape"
      ],
      "metadata": {
        "colab": {
          "base_uri": "https://localhost:8080/"
        },
        "id": "JLOZ-QHEQnJw",
        "outputId": "71b672c3-c353-461e-c2d6-8f75e2710038"
      },
      "execution_count": null,
      "outputs": [
        {
          "output_type": "execute_result",
          "data": {
            "text/plain": [
              "(16003, 3)"
            ]
          },
          "metadata": {},
          "execution_count": 17
        }
      ]
    },
    {
      "cell_type": "code",
      "source": [
        "train_data_matrix.shape"
      ],
      "metadata": {
        "colab": {
          "base_uri": "https://localhost:8080/"
        },
        "id": "-1XJemUHQqzj",
        "outputId": "2255ed55-5952-40bd-999e-43c768b77513"
      },
      "execution_count": null,
      "outputs": [
        {
          "output_type": "execute_result",
          "data": {
            "text/plain": [
              "(16003, 3)"
            ]
          },
          "metadata": {},
          "execution_count": 18
        }
      ]
    },
    {
      "cell_type": "code",
      "source": [
        "train_data.shape"
      ],
      "metadata": {
        "colab": {
          "base_uri": "https://localhost:8080/"
        },
        "id": "GMEd1jfLQw7k",
        "outputId": "4ddb89e9-de45-46c9-f91f-85e085c4a2c7"
      },
      "execution_count": null,
      "outputs": [
        {
          "output_type": "execute_result",
          "data": {
            "text/plain": [
              "(16003, 3)"
            ]
          },
          "metadata": {},
          "execution_count": 19
        }
      ]
    },
    {
      "cell_type": "code",
      "source": [
        "train_data.describe()"
      ],
      "metadata": {
        "colab": {
          "base_uri": "https://localhost:8080/",
          "height": 291
        },
        "id": "SaL_OIepQ0cT",
        "outputId": "b0e9bb6a-c9f2-4814-daba-9ea3c26aaddd"
      },
      "execution_count": null,
      "outputs": [
        {
          "output_type": "execute_result",
          "data": {
            "text/plain": [
              "            user_id      movie_id        rating\n",
              "count  16003.000000  16003.000000  16003.000000\n",
              "mean    3026.317753   1866.704368      3.585203\n",
              "std     1727.261299   1097.541480      1.109677\n",
              "min        4.000000      1.000000      1.000000\n",
              "25%     1516.000000   1032.000000      3.000000\n",
              "50%     3080.000000   1882.000000      4.000000\n",
              "75%     4470.000000   2770.000000      4.000000\n",
              "max     6040.000000   3952.000000      5.000000"
            ],
            "text/html": [
              "\n",
              "  <div id=\"df-671dab88-4a95-4a28-a8ad-ccc4cd94e05e\" class=\"colab-df-container\">\n",
              "    <div>\n",
              "<style scoped>\n",
              "    .dataframe tbody tr th:only-of-type {\n",
              "        vertical-align: middle;\n",
              "    }\n",
              "\n",
              "    .dataframe tbody tr th {\n",
              "        vertical-align: top;\n",
              "    }\n",
              "\n",
              "    .dataframe thead th {\n",
              "        text-align: right;\n",
              "    }\n",
              "</style>\n",
              "<table border=\"1\" class=\"dataframe\">\n",
              "  <thead>\n",
              "    <tr style=\"text-align: right;\">\n",
              "      <th></th>\n",
              "      <th>user_id</th>\n",
              "      <th>movie_id</th>\n",
              "      <th>rating</th>\n",
              "    </tr>\n",
              "  </thead>\n",
              "  <tbody>\n",
              "    <tr>\n",
              "      <th>count</th>\n",
              "      <td>16003.000000</td>\n",
              "      <td>16003.000000</td>\n",
              "      <td>16003.000000</td>\n",
              "    </tr>\n",
              "    <tr>\n",
              "      <th>mean</th>\n",
              "      <td>3026.317753</td>\n",
              "      <td>1866.704368</td>\n",
              "      <td>3.585203</td>\n",
              "    </tr>\n",
              "    <tr>\n",
              "      <th>std</th>\n",
              "      <td>1727.261299</td>\n",
              "      <td>1097.541480</td>\n",
              "      <td>1.109677</td>\n",
              "    </tr>\n",
              "    <tr>\n",
              "      <th>min</th>\n",
              "      <td>4.000000</td>\n",
              "      <td>1.000000</td>\n",
              "      <td>1.000000</td>\n",
              "    </tr>\n",
              "    <tr>\n",
              "      <th>25%</th>\n",
              "      <td>1516.000000</td>\n",
              "      <td>1032.000000</td>\n",
              "      <td>3.000000</td>\n",
              "    </tr>\n",
              "    <tr>\n",
              "      <th>50%</th>\n",
              "      <td>3080.000000</td>\n",
              "      <td>1882.000000</td>\n",
              "      <td>4.000000</td>\n",
              "    </tr>\n",
              "    <tr>\n",
              "      <th>75%</th>\n",
              "      <td>4470.000000</td>\n",
              "      <td>2770.000000</td>\n",
              "      <td>4.000000</td>\n",
              "    </tr>\n",
              "    <tr>\n",
              "      <th>max</th>\n",
              "      <td>6040.000000</td>\n",
              "      <td>3952.000000</td>\n",
              "      <td>5.000000</td>\n",
              "    </tr>\n",
              "  </tbody>\n",
              "</table>\n",
              "</div>\n",
              "    <div class=\"colab-df-buttons\">\n",
              "\n",
              "  <div class=\"colab-df-container\">\n",
              "    <button class=\"colab-df-convert\" onclick=\"convertToInteractive('df-671dab88-4a95-4a28-a8ad-ccc4cd94e05e')\"\n",
              "            title=\"Convert this dataframe to an interactive table.\"\n",
              "            style=\"display:none;\">\n",
              "\n",
              "  <svg xmlns=\"http://www.w3.org/2000/svg\" height=\"24px\" viewBox=\"0 -960 960 960\">\n",
              "    <path d=\"M120-120v-720h720v720H120Zm60-500h600v-160H180v160Zm220 220h160v-160H400v160Zm0 220h160v-160H400v160ZM180-400h160v-160H180v160Zm440 0h160v-160H620v160ZM180-180h160v-160H180v160Zm440 0h160v-160H620v160Z\"/>\n",
              "  </svg>\n",
              "    </button>\n",
              "\n",
              "  <style>\n",
              "    .colab-df-container {\n",
              "      display:flex;\n",
              "      gap: 12px;\n",
              "    }\n",
              "\n",
              "    .colab-df-convert {\n",
              "      background-color: #E8F0FE;\n",
              "      border: none;\n",
              "      border-radius: 50%;\n",
              "      cursor: pointer;\n",
              "      display: none;\n",
              "      fill: #1967D2;\n",
              "      height: 32px;\n",
              "      padding: 0 0 0 0;\n",
              "      width: 32px;\n",
              "    }\n",
              "\n",
              "    .colab-df-convert:hover {\n",
              "      background-color: #E2EBFA;\n",
              "      box-shadow: 0px 1px 2px rgba(60, 64, 67, 0.3), 0px 1px 3px 1px rgba(60, 64, 67, 0.15);\n",
              "      fill: #174EA6;\n",
              "    }\n",
              "\n",
              "    .colab-df-buttons div {\n",
              "      margin-bottom: 4px;\n",
              "    }\n",
              "\n",
              "    [theme=dark] .colab-df-convert {\n",
              "      background-color: #3B4455;\n",
              "      fill: #D2E3FC;\n",
              "    }\n",
              "\n",
              "    [theme=dark] .colab-df-convert:hover {\n",
              "      background-color: #434B5C;\n",
              "      box-shadow: 0px 1px 3px 1px rgba(0, 0, 0, 0.15);\n",
              "      filter: drop-shadow(0px 1px 2px rgba(0, 0, 0, 0.3));\n",
              "      fill: #FFFFFF;\n",
              "    }\n",
              "  </style>\n",
              "\n",
              "    <script>\n",
              "      const buttonEl =\n",
              "        document.querySelector('#df-671dab88-4a95-4a28-a8ad-ccc4cd94e05e button.colab-df-convert');\n",
              "      buttonEl.style.display =\n",
              "        google.colab.kernel.accessAllowed ? 'block' : 'none';\n",
              "\n",
              "      async function convertToInteractive(key) {\n",
              "        const element = document.querySelector('#df-671dab88-4a95-4a28-a8ad-ccc4cd94e05e');\n",
              "        const dataTable =\n",
              "          await google.colab.kernel.invokeFunction('convertToInteractive',\n",
              "                                                    [key], {});\n",
              "        if (!dataTable) return;\n",
              "\n",
              "        const docLinkHtml = 'Like what you see? Visit the ' +\n",
              "          '<a target=\"_blank\" href=https://colab.research.google.com/notebooks/data_table.ipynb>data table notebook</a>'\n",
              "          + ' to learn more about interactive tables.';\n",
              "        element.innerHTML = '';\n",
              "        dataTable['output_type'] = 'display_data';\n",
              "        await google.colab.output.renderOutput(dataTable, element);\n",
              "        const docLink = document.createElement('div');\n",
              "        docLink.innerHTML = docLinkHtml;\n",
              "        element.appendChild(docLink);\n",
              "      }\n",
              "    </script>\n",
              "  </div>\n",
              "\n",
              "\n",
              "<div id=\"df-ee149d4e-0b5c-429d-822e-a4d264fa3288\">\n",
              "  <button class=\"colab-df-quickchart\" onclick=\"quickchart('df-ee149d4e-0b5c-429d-822e-a4d264fa3288')\"\n",
              "            title=\"Suggest charts\"\n",
              "            style=\"display:none;\">\n",
              "\n",
              "<svg xmlns=\"http://www.w3.org/2000/svg\" height=\"24px\"viewBox=\"0 0 24 24\"\n",
              "     width=\"24px\">\n",
              "    <g>\n",
              "        <path d=\"M19 3H5c-1.1 0-2 .9-2 2v14c0 1.1.9 2 2 2h14c1.1 0 2-.9 2-2V5c0-1.1-.9-2-2-2zM9 17H7v-7h2v7zm4 0h-2V7h2v10zm4 0h-2v-4h2v4z\"/>\n",
              "    </g>\n",
              "</svg>\n",
              "  </button>\n",
              "\n",
              "<style>\n",
              "  .colab-df-quickchart {\n",
              "      --bg-color: #E8F0FE;\n",
              "      --fill-color: #1967D2;\n",
              "      --hover-bg-color: #E2EBFA;\n",
              "      --hover-fill-color: #174EA6;\n",
              "      --disabled-fill-color: #AAA;\n",
              "      --disabled-bg-color: #DDD;\n",
              "  }\n",
              "\n",
              "  [theme=dark] .colab-df-quickchart {\n",
              "      --bg-color: #3B4455;\n",
              "      --fill-color: #D2E3FC;\n",
              "      --hover-bg-color: #434B5C;\n",
              "      --hover-fill-color: #FFFFFF;\n",
              "      --disabled-bg-color: #3B4455;\n",
              "      --disabled-fill-color: #666;\n",
              "  }\n",
              "\n",
              "  .colab-df-quickchart {\n",
              "    background-color: var(--bg-color);\n",
              "    border: none;\n",
              "    border-radius: 50%;\n",
              "    cursor: pointer;\n",
              "    display: none;\n",
              "    fill: var(--fill-color);\n",
              "    height: 32px;\n",
              "    padding: 0;\n",
              "    width: 32px;\n",
              "  }\n",
              "\n",
              "  .colab-df-quickchart:hover {\n",
              "    background-color: var(--hover-bg-color);\n",
              "    box-shadow: 0 1px 2px rgba(60, 64, 67, 0.3), 0 1px 3px 1px rgba(60, 64, 67, 0.15);\n",
              "    fill: var(--button-hover-fill-color);\n",
              "  }\n",
              "\n",
              "  .colab-df-quickchart-complete:disabled,\n",
              "  .colab-df-quickchart-complete:disabled:hover {\n",
              "    background-color: var(--disabled-bg-color);\n",
              "    fill: var(--disabled-fill-color);\n",
              "    box-shadow: none;\n",
              "  }\n",
              "\n",
              "  .colab-df-spinner {\n",
              "    border: 2px solid var(--fill-color);\n",
              "    border-color: transparent;\n",
              "    border-bottom-color: var(--fill-color);\n",
              "    animation:\n",
              "      spin 1s steps(1) infinite;\n",
              "  }\n",
              "\n",
              "  @keyframes spin {\n",
              "    0% {\n",
              "      border-color: transparent;\n",
              "      border-bottom-color: var(--fill-color);\n",
              "      border-left-color: var(--fill-color);\n",
              "    }\n",
              "    20% {\n",
              "      border-color: transparent;\n",
              "      border-left-color: var(--fill-color);\n",
              "      border-top-color: var(--fill-color);\n",
              "    }\n",
              "    30% {\n",
              "      border-color: transparent;\n",
              "      border-left-color: var(--fill-color);\n",
              "      border-top-color: var(--fill-color);\n",
              "      border-right-color: var(--fill-color);\n",
              "    }\n",
              "    40% {\n",
              "      border-color: transparent;\n",
              "      border-right-color: var(--fill-color);\n",
              "      border-top-color: var(--fill-color);\n",
              "    }\n",
              "    60% {\n",
              "      border-color: transparent;\n",
              "      border-right-color: var(--fill-color);\n",
              "    }\n",
              "    80% {\n",
              "      border-color: transparent;\n",
              "      border-right-color: var(--fill-color);\n",
              "      border-bottom-color: var(--fill-color);\n",
              "    }\n",
              "    90% {\n",
              "      border-color: transparent;\n",
              "      border-bottom-color: var(--fill-color);\n",
              "    }\n",
              "  }\n",
              "</style>\n",
              "\n",
              "  <script>\n",
              "    async function quickchart(key) {\n",
              "      const quickchartButtonEl =\n",
              "        document.querySelector('#' + key + ' button');\n",
              "      quickchartButtonEl.disabled = true;  // To prevent multiple clicks.\n",
              "      quickchartButtonEl.classList.add('colab-df-spinner');\n",
              "      try {\n",
              "        const charts = await google.colab.kernel.invokeFunction(\n",
              "            'suggestCharts', [key], {});\n",
              "      } catch (error) {\n",
              "        console.error('Error during call to suggestCharts:', error);\n",
              "      }\n",
              "      quickchartButtonEl.classList.remove('colab-df-spinner');\n",
              "      quickchartButtonEl.classList.add('colab-df-quickchart-complete');\n",
              "    }\n",
              "    (() => {\n",
              "      let quickchartButtonEl =\n",
              "        document.querySelector('#df-ee149d4e-0b5c-429d-822e-a4d264fa3288 button');\n",
              "      quickchartButtonEl.style.display =\n",
              "        google.colab.kernel.accessAllowed ? 'block' : 'none';\n",
              "    })();\n",
              "  </script>\n",
              "</div>\n",
              "    </div>\n",
              "  </div>\n"
            ],
            "application/vnd.google.colaboratory.intrinsic+json": {
              "type": "dataframe",
              "summary": "{\n  \"name\": \"train_data\",\n  \"rows\": 8,\n  \"fields\": [\n    {\n      \"column\": \"user_id\",\n      \"properties\": {\n        \"dtype\": \"number\",\n        \"std\": 5009.758692864783,\n        \"min\": 4.0,\n        \"max\": 16003.0,\n        \"num_unique_values\": 8,\n        \"samples\": [\n          3026.317752921327,\n          3080.0,\n          16003.0\n        ],\n        \"semantic_type\": \"\",\n        \"description\": \"\"\n      }\n    },\n    {\n      \"column\": \"movie_id\",\n      \"properties\": {\n        \"dtype\": \"number\",\n        \"std\": 5160.398440192795,\n        \"min\": 1.0,\n        \"max\": 16003.0,\n        \"num_unique_values\": 8,\n        \"samples\": [\n          1866.704367931013,\n          1882.0,\n          16003.0\n        ],\n        \"semantic_type\": \"\",\n        \"description\": \"\"\n      }\n    },\n    {\n      \"column\": \"rating\",\n      \"properties\": {\n        \"dtype\": \"number\",\n        \"std\": 5656.81932762915,\n        \"min\": 1.0,\n        \"max\": 16003.0,\n        \"num_unique_values\": 7,\n        \"samples\": [\n          16003.0,\n          3.585202774479785,\n          4.0\n        ],\n        \"semantic_type\": \"\",\n        \"description\": \"\"\n      }\n    }\n  ]\n}"
            }
          },
          "metadata": {},
          "execution_count": 23
        }
      ]
    },
    {
      "cell_type": "code",
      "source": [
        "user_prediction.describe"
      ],
      "metadata": {
        "id": "_UhCgfrERLKO",
        "outputId": "d96a7c47-8c1d-43af-9ed9-a75b767d33e7",
        "colab": {
          "base_uri": "https://localhost:8080/",
          "height": 135
        }
      },
      "execution_count": null,
      "outputs": [
        {
          "output_type": "error",
          "ename": "AttributeError",
          "evalue": "'numpy.ndarray' object has no attribute 'describe'",
          "traceback": [
            "\u001b[0;31m---------------------------------------------------------------------------\u001b[0m",
            "\u001b[0;31mAttributeError\u001b[0m                            Traceback (most recent call last)",
            "\u001b[0;32m<ipython-input-25-183bc6f84356>\u001b[0m in \u001b[0;36m<cell line: 1>\u001b[0;34m()\u001b[0m\n\u001b[0;32m----> 1\u001b[0;31m \u001b[0muser_prediction\u001b[0m\u001b[0;34m.\u001b[0m\u001b[0mdescribe\u001b[0m\u001b[0;34m\u001b[0m\u001b[0;34m\u001b[0m\u001b[0m\n\u001b[0m",
            "\u001b[0;31mAttributeError\u001b[0m: 'numpy.ndarray' object has no attribute 'describe'"
          ]
        }
      ]
    },
    {
      "cell_type": "code",
      "source": [
        "import pickle\n",
        "\n",
        "# Assuming user_prediction is already computed\n",
        "# Save user_prediction to a pickle file\n",
        "user_prediction_path = '/content/drive/My Drive/movie_rec_system/user_prediction.pkl'\n",
        "with open(user_prediction_path, 'wb') as f:\n",
        "    pickle.dump(user_prediction, f)"
      ],
      "metadata": {
        "id": "_RsGnfl22jqa"
      },
      "execution_count": null,
      "outputs": []
    },
    {
      "cell_type": "code",
      "execution_count": null,
      "metadata": {
        "id": "P_nRPeCho61z",
        "outputId": "6e78d8f9-cada-42af-ff27-12343f42e8cd",
        "colab": {
          "base_uri": "https://localhost:8080/"
        }
      },
      "outputs": [
        {
          "output_type": "stream",
          "name": "stdout",
          "text": [
            "User-based CF RMSE: 693.9016693063587\n",
            "Item-based CF RMSE: 222.11165678187047\n"
          ]
        }
      ],
      "source": [
        "# RMSE on the train data\n",
        "print('User-based CF RMSE: ' + str(rmse(user_prediction, train_data_matrix)))\n",
        "print('Item-based CF RMSE: ' + str(rmse(item_prediction, train_data_matrix)))"
      ]
    },
    {
      "cell_type": "markdown",
      "metadata": {
        "id": "a1bZTRsoo61z"
      },
      "source": [
        "RMSE of training of model is a metric which measure how much the signal and the noise is explained by the model. I noticed that my RMSE is quite big. I suppose I might have overfitted the training data.\n",
        "\n",
        "Overall, Memory-based Collaborative Filtering is easy to implement and produce reasonable prediction quality. However, there are some drawback of this approach:\n",
        "\n",
        "* It doesn't address the well-known cold-start problem, that is when new user or new item enters the system.\n",
        "* It can't deal with sparse data, meaning it's hard to find users that have rated the same items.\n",
        "* It suffers when new users or items that don't have any ratings enter the system.\n",
        "* It tends to recommend popular items."
      ]
    },
    {
      "cell_type": "code",
      "source": [
        "def recommend_movies(user_id, prediction_matrix, movies, ratings, num_recommendations=20):\n",
        "    # Get and sort the user's predictions\n",
        "    user_row_number = user_id - 1  # User ID starts at 1, not 0\n",
        "    sorted_user_predictions = prediction_matrix[user_row_number].argsort()[::-1]\n",
        "\n",
        "    # Get user's data and merge in movie information\n",
        "    user_data = ratings[ratings.user_id == user_id]\n",
        "    user_full = user_data.merge(movies, how='left', left_on='movie_id', right_on='movie_id').sort_values(['rating'], ascending=False)\n",
        "\n",
        "    print('User {0} has already rated {1} movies.'.format(user_id, user_full.shape[0]))\n",
        "    print('Recommending the highest {0} predicted ratings movies not already rated.'.format(num_recommendations))\n",
        "\n",
        "    # Recommend the highest predicted rating movies that the user hasn't seen yet.\n",
        "    recommendations = (movies[~movies['movie_id'].isin(user_full['movie_id'])]\n",
        "                       .iloc[sorted_user_predictions]\n",
        "                       .head(num_recommendations))\n",
        "\n",
        "    return user_full, recommendations\n",
        "\n",
        "# Example usage for user ID 1\n",
        "user_full, recommendations = recommend_movies(344, user_prediction, movies, ratings)\n",
        "print(recommendations)\n"
      ],
      "metadata": {
        "colab": {
          "base_uri": "https://localhost:8080/"
        },
        "id": "ZcDeOLyAmU7j",
        "outputId": "25d40ce0-a505-41e8-ac4e-a91990feccb3"
      },
      "execution_count": null,
      "outputs": [
        {
          "output_type": "stream",
          "name": "stdout",
          "text": [
            "User 344 has already rated 90 movies.\n",
            "Recommending the highest 20 predicted ratings movies not already rated.\n",
            "   movie_id                    title                        genres\n",
            "0         1         Toy Story (1995)   Animation|Children's|Comedy\n",
            "1         2           Jumanji (1995)  Adventure|Children's|Fantasy\n",
            "2         3  Grumpier Old Men (1995)                Comedy|Romance\n"
          ]
        }
      ]
    },
    {
      "cell_type": "code",
      "source": [
        "def recommend_movies(predictions, user_id, movies, ratings, num_recommendations=30):\n",
        "    # Get and sort the user's predictions\n",
        "    user_row_number = user_id - 1  # User ID starts at 1\n",
        "    sorted_user_predictions = predictions[user_row_number].argsort()[::-1]\n",
        "\n",
        "    # Get the user's data and merge in the movie information\n",
        "    user_data = ratings[ratings.user_id == user_id]\n",
        "    user_full = (user_data.merge(movies, how='left', left_on='movie_id', right_on='movie_id').\n",
        "                 sort_values(['rating'], ascending=False))\n",
        "\n",
        "    # Recommend the highest predicted rating movies that the user hasn't seen yet\n",
        "    recommendations = movies[~movies['movie_id'].isin(user_full['movie_id'])]\n",
        "                      #  iloc[sorted_user_predictions])\n",
        "\n",
        "    # Ensure we get the top 'num_recommendations' not already rated by the user\n",
        "    if len(recommendations) < num_recommendations:\n",
        "        print(f\"Warning: Only {len(recommendations)} recommendations available.\")\n",
        "        top_recommendations = recommendations\n",
        "    else:\n",
        "        top_recommendations = recommendations.head(num_recommendations)\n",
        "\n",
        "    return user_full, top_recommendations\n",
        "\n",
        "# Example usage:\n",
        "user_id = 3 # specify the user_id you want to recommend movies to\n",
        "user_full, recommendations = recommend_movies(user_prediction, user_id, movies, ratings, num_recommendations=20)\n",
        "print(recommendations)\n",
        "print(user_full)"
      ],
      "metadata": {
        "colab": {
          "base_uri": "https://localhost:8080/"
        },
        "id": "sphrypr3oGzN",
        "outputId": "8cbc9d2d-39fc-4cbd-bbf1-cfcc21a5c8ac"
      },
      "execution_count": null,
      "outputs": [
        {
          "output_type": "stream",
          "name": "stdout",
          "text": [
            "    movie_id                                  title  \\\n",
            "0          1                       Toy Story (1995)   \n",
            "1          2                         Jumanji (1995)   \n",
            "2          3                Grumpier Old Men (1995)   \n",
            "3          4               Waiting to Exhale (1995)   \n",
            "4          5     Father of the Bride Part II (1995)   \n",
            "5          6                            Heat (1995)   \n",
            "6          7                         Sabrina (1995)   \n",
            "7          8                    Tom and Huck (1995)   \n",
            "8          9                    Sudden Death (1995)   \n",
            "9         10                       GoldenEye (1995)   \n",
            "10        11         American President, The (1995)   \n",
            "11        12     Dracula: Dead and Loving It (1995)   \n",
            "12        13                           Balto (1995)   \n",
            "13        14                           Nixon (1995)   \n",
            "14        15                Cutthroat Island (1995)   \n",
            "15        16                          Casino (1995)   \n",
            "16        17           Sense and Sensibility (1995)   \n",
            "17        18                      Four Rooms (1995)   \n",
            "18        19  Ace Ventura: When Nature Calls (1995)   \n",
            "19        20                     Money Train (1995)   \n",
            "\n",
            "                          genres  \n",
            "0    Animation|Children's|Comedy  \n",
            "1   Adventure|Children's|Fantasy  \n",
            "2                 Comedy|Romance  \n",
            "3                   Comedy|Drama  \n",
            "4                         Comedy  \n",
            "5          Action|Crime|Thriller  \n",
            "6                 Comedy|Romance  \n",
            "7           Adventure|Children's  \n",
            "8                         Action  \n",
            "9      Action|Adventure|Thriller  \n",
            "10          Comedy|Drama|Romance  \n",
            "11                 Comedy|Horror  \n",
            "12          Animation|Children's  \n",
            "13                         Drama  \n",
            "14      Action|Adventure|Romance  \n",
            "15                Drama|Thriller  \n",
            "16                 Drama|Romance  \n",
            "17                      Thriller  \n",
            "18                        Comedy  \n",
            "19                        Action  \n",
            "    user_id  movie_id  rating  \\\n",
            "38        3      1304       5   \n",
            "12        3      1615       5   \n",
            "31        3      2355       5   \n",
            "32        3      1197       5   \n",
            "33        3      1198       5   \n",
            "19        3       260       5   \n",
            "34        3      1378       5   \n",
            "16        3      2167       5   \n",
            "37        3      3552       5   \n",
            "14        3      1259       5   \n",
            "27        3      1266       5   \n",
            "28        3       733       5   \n",
            "10        3      1079       5   \n",
            "44        3      3671       5   \n",
            "49        3      1136       5   \n",
            "40        3      2470       4   \n",
            "41        3      3168       4   \n",
            "43        3      1961       4   \n",
            "36        3      1379       4   \n",
            "45        3      2006       4   \n",
            "46        3      2871       4   \n",
            "47        3      2115       4   \n",
            "48        3      1968       4   \n",
            "30        3       590       4   \n",
            "29        3      1196       4   \n",
            "0         3      3421       4   \n",
            "25        3       480       4   \n",
            "50        3      2081       4   \n",
            "24        3       552       4   \n",
            "22        3      1049       4   \n",
            "3         3      1394       4   \n",
            "20        3      2858       4   \n",
            "5         3       104       4   \n",
            "6         3      2735       4   \n",
            "15        3       653       4   \n",
            "13        3      1291       4   \n",
            "7         3      1210       4   \n",
            "9         3      3868       3   \n",
            "2         3       648       3   \n",
            "4         3      3534       3   \n",
            "8         3      1431       3   \n",
            "39        3      1270       3   \n",
            "11        3      2997       3   \n",
            "17        3      1580       3   \n",
            "35        3       593       3   \n",
            "21        3      3114       3   \n",
            "42        3      2617       2   \n",
            "1         3      1641       2   \n",
            "18        3      3619       2   \n",
            "26        3      1265       2   \n",
            "23        3      1261       1   \n",
            "\n",
            "                                                title  \\\n",
            "38          Butch Cassidy and the Sundance Kid (1969)   \n",
            "12                                   Edge, The (1997)   \n",
            "31                               Bug's Life, A (1998)   \n",
            "32                         Princess Bride, The (1987)   \n",
            "33                     Raiders of the Lost Ark (1981)   \n",
            "19          Star Wars: Episode IV - A New Hope (1977)   \n",
            "34                                  Young Guns (1988)   \n",
            "16                                       Blade (1998)   \n",
            "37                                  Caddyshack (1980)   \n",
            "14                                 Stand by Me (1986)   \n",
            "27                                  Unforgiven (1992)   \n",
            "28                                   Rock, The (1996)   \n",
            "10                        Fish Called Wanda, A (1988)   \n",
            "44                             Blazing Saddles (1974)   \n",
            "49             Monty Python and the Holy Grail (1974)   \n",
            "40                            Crocodile Dundee (1986)   \n",
            "41                                  Easy Rider (1969)   \n",
            "43                                    Rain Man (1988)   \n",
            "36                               Young Guns II (1990)   \n",
            "45                          Mask of Zorro, The (1998)   \n",
            "46                                 Deliverance (1972)   \n",
            "47        Indiana Jones and the Temple of Doom (1984)   \n",
            "48                         Breakfast Club, The (1985)   \n",
            "30                          Dances with Wolves (1990)   \n",
            "29  Star Wars: Episode V - The Empire Strikes Back...   \n",
            "0                                 Animal House (1978)   \n",
            "25                               Jurassic Park (1993)   \n",
            "50                         Little Mermaid, The (1989)   \n",
            "24                       Three Musketeers, The (1993)   \n",
            "22                 Ghost and the Darkness, The (1996)   \n",
            "3                              Raising Arizona (1987)   \n",
            "20                             American Beauty (1999)   \n",
            "5                                Happy Gilmore (1996)   \n",
            "6                            Golden Child, The (1986)   \n",
            "15                                 Dragonheart (1996)   \n",
            "13          Indiana Jones and the Last Crusade (1989)   \n",
            "7   Star Wars: Episode VI - Return of the Jedi (1983)   \n",
            "9   Naked Gun: From the Files of Police Squad!, Th...   \n",
            "2                          Mission: Impossible (1996)   \n",
            "4                                      28 Days (2000)   \n",
            "8                          Beverly Hills Ninja (1997)   \n",
            "39                          Back to the Future (1985)   \n",
            "11                        Being John Malkovich (1999)   \n",
            "17                                Men in Black (1997)   \n",
            "35                   Silence of the Lambs, The (1991)   \n",
            "21                                 Toy Story 2 (1999)   \n",
            "42                                  Mummy, The (1999)   \n",
            "1                              Full Monty, The (1997)   \n",
            "18                      Hollywood Knights, The (1980)   \n",
            "26                               Groundhog Day (1993)   \n",
            "23                 Evil Dead II (Dead By Dawn) (1987)   \n",
            "\n",
            "                                         genres  \n",
            "38                        Action|Comedy|Western  \n",
            "12                           Adventure|Thriller  \n",
            "31                  Animation|Children's|Comedy  \n",
            "32              Action|Adventure|Comedy|Romance  \n",
            "33                             Action|Adventure  \n",
            "19              Action|Adventure|Fantasy|Sci-Fi  \n",
            "34                        Action|Comedy|Western  \n",
            "16                      Action|Adventure|Horror  \n",
            "37                                       Comedy  \n",
            "14                       Adventure|Comedy|Drama  \n",
            "27                                      Western  \n",
            "28                    Action|Adventure|Thriller  \n",
            "10                                       Comedy  \n",
            "44                               Comedy|Western  \n",
            "49                                       Comedy  \n",
            "40                             Adventure|Comedy  \n",
            "41                              Adventure|Drama  \n",
            "43                                        Drama  \n",
            "36                        Action|Comedy|Western  \n",
            "45                     Action|Adventure|Romance  \n",
            "46                           Adventure|Thriller  \n",
            "47                             Action|Adventure  \n",
            "48                                 Comedy|Drama  \n",
            "30                      Adventure|Drama|Western  \n",
            "29            Action|Adventure|Drama|Sci-Fi|War  \n",
            "0                                        Comedy  \n",
            "25                      Action|Adventure|Sci-Fi  \n",
            "50  Animation|Children's|Comedy|Musical|Romance  \n",
            "24                      Action|Adventure|Comedy  \n",
            "22                             Action|Adventure  \n",
            "3                                        Comedy  \n",
            "20                                 Comedy|Drama  \n",
            "5                                        Comedy  \n",
            "6                       Action|Adventure|Comedy  \n",
            "15                     Action|Adventure|Fantasy  \n",
            "13                             Action|Adventure  \n",
            "7           Action|Adventure|Romance|Sci-Fi|War  \n",
            "9                                        Comedy  \n",
            "2                      Action|Adventure|Mystery  \n",
            "4                                        Comedy  \n",
            "8                                 Action|Comedy  \n",
            "39                                Comedy|Sci-Fi  \n",
            "11                                       Comedy  \n",
            "17               Action|Adventure|Comedy|Sci-Fi  \n",
            "35                               Drama|Thriller  \n",
            "21                  Animation|Children's|Comedy  \n",
            "42             Action|Adventure|Horror|Thriller  \n",
            "1                                        Comedy  \n",
            "18                                       Comedy  \n",
            "26                               Comedy|Romance  \n",
            "23               Action|Adventure|Comedy|Horror  \n"
          ]
        }
      ]
    },
    {
      "cell_type": "code",
      "source": [
        "def recommend_movies_for_new_user(user_ratings, movies, ratings, num_recommendations=20):\n",
        "    # Filter out movie IDs that don't exist in the movies DataFrame\n",
        "    valid_movie_ids = set(user_ratings.keys()) & set(movies['movie_id'])\n",
        "\n",
        "    # Filter movies DataFrame to include only valid movie IDs\n",
        "    unrated_movies = movies[movies['movie_id'].isin(valid_movie_ids)].copy()  # Create a copy\n",
        "\n",
        "    # Calculate similarity between rated movies and all other movies\n",
        "    movie_similarity = np.zeros(len(unrated_movies))\n",
        "    for i, (rated_movie_id, rated_rating) in enumerate(user_ratings.items()):\n",
        "        rated_movie_genres = movies[movies['movie_id'] == rated_movie_id]['genres'].iloc[0]\n",
        "        for j, (_, unrated_movie) in enumerate(unrated_movies.iterrows()):\n",
        "            unrated_movie_genres = unrated_movie['genres']\n",
        "            # Calculate similarity (for simplicity, just count number of common genres)\n",
        "            similarity_score = len(set(rated_movie_genres.split('|')).intersection(unrated_movie_genres.split('|')))\n",
        "            movie_similarity[j] += similarity_score * rated_rating\n",
        "    print(movie_similarity)\n",
        "    # Sort movies based on similarity scores\n",
        "    unrated_movies['similarity'] = movie_similarity\n",
        "\n",
        "    recommended_movies = unrated_movies.sort_values(by='similarity', ascending=False).head(num_recommendations)\n",
        "    print(recommended_movies)\n",
        "    return recommended_movies\n",
        "\n",
        "# Example usage:\n",
        "user_ratings = {1: 3, 334: 2, 3324: 5, 3334: 4}  # New user's ratings\n",
        "recommended_movies = recommend_movies_for_new_user(user_ratings, movies, ratings, num_recommendations=20)\n",
        "print(recommended_movies[['movie_id', 'title', 'genres']])\n"
      ],
      "metadata": {
        "colab": {
          "base_uri": "https://localhost:8080/"
        },
        "id": "qOowBcKFvgCb",
        "outputId": "235854e4-1995-41b2-f3f7-0ebd204e4a14"
      },
      "execution_count": 42,
      "outputs": [
        {
          "output_type": "stream",
          "name": "stdout",
          "text": [
            "[14.  6.  8. 18.]\n",
            "      movie_id                        title                          genres  \\\n",
            "3265      3334             Key Largo (1948)  Crime|Drama|Film-Noir|Thriller   \n",
            "0            1             Toy Story (1995)     Animation|Children's|Comedy   \n",
            "3255      3324         Drowning Mona (2000)                          Comedy   \n",
            "330        334  Vanya on 42nd Street (1994)                           Drama   \n",
            "\n",
            "      similarity  \n",
            "3265        18.0  \n",
            "0           14.0  \n",
            "3255         8.0  \n",
            "330          6.0  \n",
            "      movie_id                        title                          genres\n",
            "3265      3334             Key Largo (1948)  Crime|Drama|Film-Noir|Thriller\n",
            "0            1             Toy Story (1995)     Animation|Children's|Comedy\n",
            "3255      3324         Drowning Mona (2000)                          Comedy\n",
            "330        334  Vanya on 42nd Street (1994)                           Drama\n"
          ]
        }
      ]
    },
    {
      "cell_type": "code",
      "source": [
        "import pandas as pd\n",
        "import numpy as np\n",
        "from sklearn.metrics.pairwise import pairwise_distances\n",
        "\n",
        "def recommend_movies_for_new_user(user_ratings, movies, ratings, num_recommendations=20):\n",
        "    # Create a unique ID for the new user\n",
        "    new_user_id = ratings['user_id'].max() + 1\n",
        "\n",
        "    # Create a DataFrame for the new user's ratings\n",
        "    new_ratings = pd.DataFrame({\n",
        "        'user_id': [new_user_id] * len(user_ratings),  # Assign new_user_id to all new ratings\n",
        "        'movie_id': list(user_ratings.keys()),         # List of movie IDs\n",
        "        'rating': list(user_ratings.values())          # Corresponding list of ratings\n",
        "    })\n",
        "\n",
        "    # Combine existing ratings with new user's ratings\n",
        "    updated_ratings = pd.concat([ratings, new_ratings], ignore_index=True)\n",
        "\n",
        "    # Create a user-item matrix\n",
        "    user_item_matrix = updated_ratings.pivot(index='user_id', columns='movie_id', values='rating').fillna(0)\n",
        "\n",
        "    # Calculate user similarity using Pearson correlation\n",
        "    user_similarity = 1 - pairwise_distances(user_item_matrix, metric='correlation')\n",
        "    user_similarity[np.isnan(user_similarity)] = 0\n",
        "\n",
        "    # Function to predict ratings\n",
        "    def predict_ratings(ratings, similarity, type='user'):\n",
        "        if type == 'user':\n",
        "            mean_user_rating = ratings.mean(axis=1)\n",
        "            ratings_diff = (ratings - mean_user_rating[:, np.newaxis])\n",
        "            pred = mean_user_rating[:, np.newaxis] + similarity.dot(ratings_diff) / np.array([np.abs(similarity).sum(axis=1)]).T\n",
        "        elif type == 'item':\n",
        "            pred = ratings.dot(similarity) / np.array([np.abs(similarity).sum(axis=1)])\n",
        "        return pred\n",
        "\n",
        "    # Predict ratings for the new user\n",
        "    user_prediction = predict_ratings(user_item_matrix.values, user_similarity, type='user')\n",
        "    new_user_predicted_ratings = user_prediction[new_user_id - 1]\n",
        "\n",
        "    # Get all movies the new user has not rated\n",
        "    unrated_movie_ids = user_item_matrix.columns[user_item_matrix.loc[new_user_id] == 0]\n",
        "\n",
        "    # Create a DataFrame for the recommended movies\n",
        "    recommended_movies = movies[movies['movie_id'].isin(unrated_movie_ids)]\n",
        "\n",
        "    # Assign predicted ratings to the recommended movies\n",
        "    recommended_movies['predicted_rating'] = recommended_movies['movie_id'].map(lambda x: new_user_predicted_ratings[user_item_matrix.columns.get_loc(x)])\n",
        "\n",
        "    # Sort and return the top N recommendations\n",
        "    recommended_movies = recommended_movies.sort_values(by='predicted_rating', ascending=False).head(num_recommendations)\n",
        "    return recommended_movies\n",
        "\n",
        "# Example usage:\n",
        "user_ratings = {1: 3, 334: 2, 3324: 5, 3334: 4}  # New user's ratings\n",
        "recommended_movies = recommend_movies_for_new_user(user_ratings, movies, ratings, num_recommendations=20)\n",
        "print(recommended_movies[['movie_id', 'title', 'genres', 'predicted_rating']])\n"
      ],
      "metadata": {
        "colab": {
          "base_uri": "https://localhost:8080/"
        },
        "id": "ZsjkAwGN_cI1",
        "outputId": "201f60ef-dc56-496e-cef6-a27b519a8c1a"
      },
      "execution_count": 14,
      "outputs": [
        {
          "output_type": "stream",
          "name": "stdout",
          "text": [
            "      movie_id                                              title  \\\n",
            "2789      2858                             American Beauty (1999)   \n",
            "257        260          Star Wars: Episode IV - A New Hope (1977)   \n",
            "1245      1265                               Groundhog Day (1993)   \n",
            "3045      3114                                 Toy Story 2 (1999)   \n",
            "1178      1196  Star Wars: Episode V - The Empire Strikes Back...   \n",
            "2327      2396                         Shakespeare in Love (1998)   \n",
            "1250      1270                          Back to the Future (1985)   \n",
            "1959      2028                         Saving Private Ryan (1998)   \n",
            "2502      2571                                 Matrix, The (1999)   \n",
            "1180      1198                     Raiders of the Lost Ark (1981)   \n",
            "604        608                                       Fargo (1996)   \n",
            "589        593                   Silence of the Lambs, The (1991)   \n",
            "1179      1197                         Princess Bride, The (1987)   \n",
            "315        318                   Shawshank Redemption, The (1994)   \n",
            "2693      2762                            Sixth Sense, The (1999)   \n",
            "1192      1210  Star Wars: Episode VI - Return of the Jedi (1983)   \n",
            "1575      1617                           L.A. Confidential (1997)   \n",
            "523        527                            Schindler's List (1993)   \n",
            "33          34                                        Babe (1995)   \n",
            "352        356                                Forrest Gump (1994)   \n",
            "\n",
            "                                   genres  predicted_rating  \n",
            "2789                         Comedy|Drama          1.560289  \n",
            "257       Action|Adventure|Fantasy|Sci-Fi          1.470414  \n",
            "1245                       Comedy|Romance          1.408814  \n",
            "3045          Animation|Children's|Comedy          1.406297  \n",
            "1178    Action|Adventure|Drama|Sci-Fi|War          1.405197  \n",
            "2327                       Comedy|Romance          1.366444  \n",
            "1250                        Comedy|Sci-Fi          1.279301  \n",
            "1959                     Action|Drama|War          1.274716  \n",
            "2502               Action|Sci-Fi|Thriller          1.266210  \n",
            "1180                     Action|Adventure          1.260085  \n",
            "604                  Crime|Drama|Thriller          1.250950  \n",
            "589                        Drama|Thriller          1.249449  \n",
            "1179      Action|Adventure|Comedy|Romance          1.245196  \n",
            "315                                 Drama          1.233004  \n",
            "2693                             Thriller          1.228164  \n",
            "1192  Action|Adventure|Romance|Sci-Fi|War          1.207248  \n",
            "1575     Crime|Film-Noir|Mystery|Thriller          1.203716  \n",
            "523                             Drama|War          1.194157  \n",
            "33                Children's|Comedy|Drama          1.185574  \n",
            "352                    Comedy|Romance|War          1.146504  \n"
          ]
        },
        {
          "output_type": "stream",
          "name": "stderr",
          "text": [
            "<ipython-input-14-88554b83d474>:47: SettingWithCopyWarning: \n",
            "A value is trying to be set on a copy of a slice from a DataFrame.\n",
            "Try using .loc[row_indexer,col_indexer] = value instead\n",
            "\n",
            "See the caveats in the documentation: https://pandas.pydata.org/pandas-docs/stable/user_guide/indexing.html#returning-a-view-versus-a-copy\n",
            "  recommended_movies['predicted_rating'] = recommended_movies['movie_id'].map(lambda x: new_user_predicted_ratings[user_item_matrix.columns.get_loc(x)])\n"
          ]
        }
      ]
    },
    {
      "cell_type": "code",
      "source": [
        "# Example usage:\n",
        "user_ratings = {123: 3, 3: 2, 324: 5, 334: 4}  # New user's ratings\n",
        "recommended_movies = recommend_movies_for_new_user(user_ratings, movies, ratings, num_recommendations=20)\n",
        "print(recommended_movies[['movie_id', 'title', 'genres', 'predicted_rating']])\n"
      ],
      "metadata": {
        "colab": {
          "base_uri": "https://localhost:8080/"
        },
        "id": "qTOelUNpAlrY",
        "outputId": "b0c65302-d1b6-4668-bb8a-8910fb96297d"
      },
      "execution_count": 15,
      "outputs": [
        {
          "output_type": "stream",
          "name": "stdout",
          "text": [
            "      movie_id                                              title  \\\n",
            "1217      1236                                       Trust (1990)   \n",
            "303        306                           Three Colors: Red (1994)   \n",
            "497        501                                       Naked (1993)   \n",
            "2102      2171                       Next Stop, Wonderland (1998)   \n",
            "1033      1046                             Beautiful Thing (1996)   \n",
            "322        326                            To Live (Huozhe) (1994)   \n",
            "305        308                         Three Colors: White (1994)   \n",
            "1260      1280                       Raise the Red Lantern (1991)   \n",
            "260        263                           Ladybird Ladybird (1994)   \n",
            "2291      2360                   Celebration, The (Festen) (1998)   \n",
            "1685      1734            My Life in Pink (Ma vie en rose) (1997)   \n",
            "1160      1176  Double Life of Veronique, The (La Double Vie d...   \n",
            "169        171                                     Jeffrey (1995)   \n",
            "2282      2351     Nights of Cabiria (Le Notti di Cabiria) (1957)   \n",
            "1745      1809                                     Hana-bi (1997)   \n",
            "2506      2575  Dreamlife of Angels, The (La Vie rêvée des ang...   \n",
            "1960      2029               Billy's Hollywood Screen Kiss (1997)   \n",
            "1344      1365                                    Ridicule (1996)   \n",
            "519        523                            Ruby in Paradise (1993)   \n",
            "3155      3224           Woman in the Dunes (Suna no onna) (1964)   \n",
            "\n",
            "                    genres  predicted_rating  \n",
            "1217          Comedy|Drama          0.166170  \n",
            "303                  Drama          0.163355  \n",
            "497                  Drama          0.156510  \n",
            "2102  Comedy|Drama|Romance          0.146595  \n",
            "1033         Drama|Romance          0.144126  \n",
            "322                  Drama          0.142625  \n",
            "305                  Drama          0.142208  \n",
            "1260                 Drama          0.141572  \n",
            "260                  Drama          0.138611  \n",
            "2291                 Drama          0.138188  \n",
            "1685          Comedy|Drama          0.137813  \n",
            "1160                 Drama          0.137666  \n",
            "169                 Comedy          0.137508  \n",
            "2282                 Drama          0.137315  \n",
            "1745    Comedy|Crime|Drama          0.136214  \n",
            "2506                 Drama          0.135269  \n",
            "1960        Comedy|Romance          0.135196  \n",
            "1344                 Drama          0.134422  \n",
            "519                  Drama          0.134364  \n",
            "3155                 Drama          0.134027  \n"
          ]
        },
        {
          "output_type": "stream",
          "name": "stderr",
          "text": [
            "<ipython-input-14-88554b83d474>:47: SettingWithCopyWarning: \n",
            "A value is trying to be set on a copy of a slice from a DataFrame.\n",
            "Try using .loc[row_indexer,col_indexer] = value instead\n",
            "\n",
            "See the caveats in the documentation: https://pandas.pydata.org/pandas-docs/stable/user_guide/indexing.html#returning-a-view-versus-a-copy\n",
            "  recommended_movies['predicted_rating'] = recommended_movies['movie_id'].map(lambda x: new_user_predicted_ratings[user_item_matrix.columns.get_loc(x)])\n"
          ]
        }
      ]
    },
    {
      "cell_type": "code",
      "source": [
        "unrated_movies = movies[~movies['movie_id'].isin(user_full['movie_id'])]\n"
      ],
      "metadata": {
        "id": "1nD3vXI4oqaP"
      },
      "execution_count": null,
      "outputs": []
    },
    {
      "cell_type": "code",
      "source": [
        "if len(unrated_movies) < 20:\n",
        "    print(f\"Warning: Only {len(unrated_movies)} unrated movies available for recommendations.\")\n",
        "    num_recommendations = len(unrated_movies)\n",
        "len(unrated_movies)"
      ],
      "metadata": {
        "colab": {
          "base_uri": "https://localhost:8080/"
        },
        "id": "T7nMLxLPouhn",
        "outputId": "5da7f075-94e9-45bb-8613-3e00eac669ae"
      },
      "execution_count": null,
      "outputs": [
        {
          "output_type": "execute_result",
          "data": {
            "text/plain": [
              "3697"
            ]
          },
          "metadata": {},
          "execution_count": 27
        }
      ]
    },
    {
      "cell_type": "markdown",
      "metadata": {
        "id": "_KknD_HWo61z"
      },
      "source": [
        "## Alternative Approach\n",
        "As I mentioned above, it looks like my Collaborative Filtering model suffers from overfitting problem as I only train it on a small sample dataset (2% of the actual 1M ratings). In order to deal with this, I need to apply dimensionality reduction techniques to capture more signals from the big dataset. Thus comes the use of **low-dimensional factor models (aka, Model-Based Collaborative Filtering)**. I won't be able to implement this approach in this notebook due to computing limit, however, I want to introduce it here to give you a general sense of its advantages.\n",
        "\n",
        "In this approach, CF models are developed using machine learning algorithms to predict user’s rating of unrated items. It has been shown that Model-based Collaborative Filtering has received greater exposure in industry research, mainly as an unsupervised learning method for latent variable decomposition and dimensionality reduction. An example is the competition to win the [Netflix Prize](https://en.wikipedia.org/wiki/Netflix_Prize), which used the best collaborative filtering algorithm to predict user ratings for films, based on previous ratings without any other information about the users or films.\n",
        "\n",
        "Matrix factorization is widely used for recommender systems where it can deal better with scalability and sparsity than Memory-based CF. The goal of MF is to learn the latent preferences of users and the latent attributes of items from known ratings (learn features that describe the characteristics of ratings) to then predict the unknown ratings through the dot product of the latent features of users and items. As per my understanding, the algorithms in this approach can further be broken down into 3 sub-types:\n",
        "\n",
        "* **Matrix Factorization (MF)**: The idea behind such models is that attitudes or preferences of a user can be determined by a small number of hidden latent factors. These factors are also called **Embeddings**, which represent different characteristics for users and items. Matrix factorization can be done by various methods including Support Vecot Decomposition (SVD), Probabilistic Matrix Factorization (PMF), and Non-Negative Matrix Factorization (NMF).\n",
        "\n",
        "* **Clustering based algorithm (KNN)**: The idea of clustering is same as that of memory-based recommendation systems. In memory-based algorithms, we use the similarities between users and/or items and use them as weights to predict a rating for a user and an item. The difference is that the similarities in this approach are calculated based on an unsupervised learning model, rather than Pearson correlation or cosine similarity.\n",
        "\n",
        "* **Neural Nets / Deep Learning**: The idea of using Neural Nets is similar to that of Model-Based Matrix Factorization. In matrix factorizaion, we decompose our original sparse matrix into product of 2 low rank orthogonal matrices. For neural net implementation, we don’t need them to be orthogonal, we want our model to learn the values of embedding matrix itself. The user latent features and movie latent features are looked up from the embedding matrices for specific movie-user combination. These are the input values for further linear and non-linear layers. We can pass this input to multiple relu, linear or sigmoid layers and learn the corresponding weights by any optimization algorithm (Adam, SGD, etc.).\n",
        "\n",
        "![memory-model-cf](images/memory-model-cf.jpg)"
      ]
    },
    {
      "cell_type": "markdown",
      "metadata": {
        "id": "Xs5ulQs4o61z"
      },
      "source": [
        "## Summary\n",
        "In this post, I introduced the Movie Lens dataset for building movie recommendation system.\n",
        "\n",
        "Specifically, I have developed recommendation models including:\n",
        "\n",
        "* How to load and review the data.\n",
        "* How to develop a content-based recommendation model based on movie genres.\n",
        "* How to develop a memory-based collaborative filtering model based on user ratings.\n",
        "* A glimpse at model-based collaborative filtering models as alternative options."
      ]
    }
  ],
  "metadata": {
    "kernelspec": {
      "display_name": "Python 3",
      "language": "python",
      "name": "python3"
    },
    "language_info": {
      "codemirror_mode": {
        "name": "ipython",
        "version": 3
      },
      "file_extension": ".py",
      "mimetype": "text/x-python",
      "name": "python",
      "nbconvert_exporter": "python",
      "pygments_lexer": "ipython3",
      "version": "3.6.4"
    },
    "colab": {
      "provenance": []
    }
  },
  "nbformat": 4,
  "nbformat_minor": 0
}